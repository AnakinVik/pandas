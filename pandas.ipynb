{
 "cells": [
  {
   "cell_type": "markdown",
   "metadata": {},
   "source": [
    "# Домашнее задание «Библиотека Pandas»"
   ]
  },
  {
   "cell_type": "markdown",
   "metadata": {},
   "source": [
    "### Задание 1.\n",
    "Скачайте с сайта https://grouplens.org/datasets/movielens/ датасет любого размера. Определите какому фильму было выставлено больше всего оценок 5.0."
   ]
  },
  {
   "cell_type": "code",
   "execution_count": 4,
   "metadata": {},
   "outputs": [],
   "source": [
    "import pandas as pd"
   ]
  },
  {
   "cell_type": "code",
   "execution_count": 5,
   "metadata": {},
   "outputs": [
    {
     "data": {
      "text/plain": [
       "movieId  title                           \n",
       "318      Shawshank Redemption, The (1994)    153\n",
       "Name: movieId, dtype: int64"
      ]
     },
     "execution_count": 5,
     "metadata": {},
     "output_type": "execute_result"
    }
   ],
   "source": [
    "movies = pd.read_csv('movies.csv')\n",
    "movies[['movieId', 'title']].head() # берем названия фильмов\n",
    "\n",
    "rating = pd.read_csv('ratings.csv') \n",
    "rating = rating[['movieId', 'rating']] # берем рейтинги фильмов\n",
    " \n",
    "joined = rating.merge(movies, on='movieId', how='left')\n",
    "joined[['movieId', 'rating', 'title']].head() # объединяем их \n",
    "\n",
    "# фильтруем по максимальному рейтингу фильма и выводим результат\n",
    "max_rating = rating['rating'].max()\n",
    "filtered_joined = joined[(joined['rating'] == max_rating)] \n",
    "filtered_rating = filtered_joined.groupby(['movieId', 'title'])['movieId'].count()\n",
    "filtered_rating.sort_values(ascending=False).head(1)"
   ]
  },
  {
   "cell_type": "markdown",
   "metadata": {},
   "source": [
    "# Задание 2."
   ]
  },
  {
   "cell_type": "code",
   "execution_count": 6,
   "metadata": {},
   "outputs": [
    {
     "name": "stdout",
     "output_type": "stream",
     "text": [
      "Суммарное потребление энергии стран Прибалтики: 165867.0 КВт\n"
     ]
    }
   ],
   "source": [
    "# По данным файла power.csv посчитайте суммарное потребление стран Прибалтики (Латвия, Литва и Эстония)\n",
    "# категорий 4, 12 и 21 за период с 2005 по 2010 года. Не учитывать в расчетах отрицательные значения quantity.\n",
    "powers = pd.read_csv('power.csv')\n",
    "filtered_countries = powers[ (powers['country'] == 'Estonia') | (powers['country'] == 'Lithuania') | (powers['country'] == 'Latvia') ]\n",
    "filtered_categoryes = filtered_countries[(filtered_countries['category'] == 4) | (filtered_countries['category'] == 12) | (filtered_countries['category']== 21) & (filtered_countries['year'] < 2010) & (filtered_countries['year'] > 2005)]\n",
    "print('Суммарное потребление энергии стран Прибалтики: {} КВт'.format(filtered_categoryes['quantity'].sum()))"
   ]
  },
  {
   "cell_type": "markdown",
   "metadata": {},
   "source": [
    "# Задание 3. "
   ]
  },
  {
   "cell_type": "code",
   "execution_count": 7,
   "metadata": {},
   "outputs": [
    {
     "data": {
      "text/html": [
       "<div>\n",
       "<style scoped>\n",
       "    .dataframe tbody tr th:only-of-type {\n",
       "        vertical-align: middle;\n",
       "    }\n",
       "\n",
       "    .dataframe tbody tr th {\n",
       "        vertical-align: top;\n",
       "    }\n",
       "\n",
       "    .dataframe thead th {\n",
       "        text-align: right;\n",
       "    }\n",
       "</style>\n",
       "<table border=\"1\" class=\"dataframe\">\n",
       "  <thead>\n",
       "    <tr style=\"text-align: right;\">\n",
       "      <th></th>\n",
       "      <th>Unnamed: 0</th>\n",
       "      <th>Рубль</th>\n",
       "      <th>Предложение</th>\n",
       "      <th>Спрос</th>\n",
       "      <th>Предыдущее закрытие</th>\n",
       "      <th>%</th>\n",
       "      <th>Абсолютное значение</th>\n",
       "      <th>Время</th>\n",
       "    </tr>\n",
       "  </thead>\n",
       "  <tbody>\n",
       "    <tr>\n",
       "      <th>0</th>\n",
       "      <td>NaN</td>\n",
       "      <td>GBP/RUB</td>\n",
       "      <td>1046665</td>\n",
       "      <td>-</td>\n",
       "      <td>1048306</td>\n",
       "      <td>-0,16 %</td>\n",
       "      <td>-01642</td>\n",
       "      <td>07:05:00</td>\n",
       "    </tr>\n",
       "    <tr>\n",
       "      <th>1</th>\n",
       "      <td>NaN</td>\n",
       "      <td>EUR/RUB</td>\n",
       "      <td>893475</td>\n",
       "      <td>-</td>\n",
       "      <td>893475</td>\n",
       "      <td>0,00 %</td>\n",
       "      <td>00000</td>\n",
       "      <td>04:18:00</td>\n",
       "    </tr>\n",
       "    <tr>\n",
       "      <th>2</th>\n",
       "      <td>NaN</td>\n",
       "      <td>USD/RUB</td>\n",
       "      <td>758975</td>\n",
       "      <td>-</td>\n",
       "      <td>758975</td>\n",
       "      <td>0,00 %</td>\n",
       "      <td>00000</td>\n",
       "      <td>04:18:00</td>\n",
       "    </tr>\n",
       "    <tr>\n",
       "      <th>3</th>\n",
       "      <td>NaN</td>\n",
       "      <td>JPY/RUB</td>\n",
       "      <td>06924</td>\n",
       "      <td>-</td>\n",
       "      <td>06935</td>\n",
       "      <td>-0,16 %</td>\n",
       "      <td>-00011</td>\n",
       "      <td>07:05:00</td>\n",
       "    </tr>\n",
       "    <tr>\n",
       "      <th>4</th>\n",
       "      <td>NaN</td>\n",
       "      <td>CNY/RUB</td>\n",
       "      <td>116027</td>\n",
       "      <td>-</td>\n",
       "      <td>116202</td>\n",
       "      <td>-0,15 %</td>\n",
       "      <td>-00175</td>\n",
       "      <td>07:05:00</td>\n",
       "    </tr>\n",
       "  </tbody>\n",
       "</table>\n",
       "</div>"
      ],
      "text/plain": [
       "   Unnamed: 0    Рубль Предложение Спрос Предыдущее закрытие        %  \\\n",
       "0         NaN  GBP/RUB     1046665     -             1048306  -0,16 %   \n",
       "1         NaN  EUR/RUB      893475     -              893475   0,00 %   \n",
       "2         NaN  USD/RUB      758975     -              758975   0,00 %   \n",
       "3         NaN  JPY/RUB       06924     -               06935  -0,16 %   \n",
       "4         NaN  CNY/RUB      116027     -              116202  -0,15 %   \n",
       "\n",
       "  Абсолютное значение     Время  \n",
       "0              -01642  07:05:00  \n",
       "1               00000  04:18:00  \n",
       "2               00000  04:18:00  \n",
       "3              -00011  07:05:00  \n",
       "4              -00175  07:05:00  "
      ]
     },
     "execution_count": 7,
     "metadata": {},
     "output_type": "execute_result"
    }
   ],
   "source": [
    "# Импортировать таблицы любого сайта(с табличными данными) в pandas dataframe.  \n",
    "data = pd.read_html('https://www.finanz.ru/valyuty/v-realnom-vremeni', encoding='utf-8')[1]\n",
    "data.head()"
   ]
  }
 ],
 "metadata": {
  "kernelspec": {
   "display_name": "Python 3",
   "language": "python",
   "name": "python3"
  },
  "language_info": {
   "codemirror_mode": {
    "name": "ipython",
    "version": 3
   },
   "file_extension": ".py",
   "mimetype": "text/x-python",
   "name": "python",
   "nbconvert_exporter": "python",
   "pygments_lexer": "ipython3",
   "version": "3.8.5"
  }
 },
 "nbformat": 4,
 "nbformat_minor": 4
}
